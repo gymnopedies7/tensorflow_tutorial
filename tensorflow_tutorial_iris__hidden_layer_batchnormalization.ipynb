{
  "nbformat": 4,
  "nbformat_minor": 0,
  "metadata": {
    "colab": {
      "name": "tensorflow_tutorial_iris _hidden layer_batchnormalization",
      "provenance": [],
      "collapsed_sections": [],
      "authorship_tag": "ABX9TyNoF8axxsPHvVeMhx7aYOEr",
      "include_colab_link": true
    },
    "kernelspec": {
      "name": "python3",
      "display_name": "Python 3"
    }
  },
  "cells": [
    {
      "cell_type": "markdown",
      "metadata": {
        "id": "view-in-github",
        "colab_type": "text"
      },
      "source": [
        "<a href=\"https://colab.research.google.com/github/gymnopedies7/tensorflow_tutorial/blob/master/tensorflow_tutorial_iris__hidden_layer_batchnormalization.ipynb\" target=\"_parent\"><img src=\"https://colab.research.google.com/assets/colab-badge.svg\" alt=\"Open In Colab\"/></a>"
      ]
    },
    {
      "cell_type": "code",
      "metadata": {
        "id": "jNG0wQ_P1D8x",
        "colab_type": "code",
        "colab": {}
      },
      "source": [
        "# Library 불러오기\n",
        "import tensorflow as tf\n",
        "import pandas as pd"
      ],
      "execution_count": 3,
      "outputs": []
    },
    {
      "cell_type": "code",
      "metadata": {
        "id": "w2U-AhGO1PEb",
        "colab_type": "code",
        "colab": {
          "base_uri": "https://localhost:8080/",
          "height": 51
        },
        "outputId": "ca974719-3f54-4642-b71a-35955c80a66e"
      },
      "source": [
        "# Data 준비\n",
        "파일경로 = 'https://raw.githubusercontent.com/blackdew/tensorflow1/master/csv/iris.csv'\n",
        "아이리스 = pd.read_csv(파일경로)\n",
        "아이리스.head()\n",
        "아이리스[['품종']].nunique()"
      ],
      "execution_count": 4,
      "outputs": [
        {
          "output_type": "execute_result",
          "data": {
            "text/plain": [
              "품종    3\n",
              "dtype: int64"
            ]
          },
          "metadata": {
            "tags": []
          },
          "execution_count": 4
        }
      ]
    },
    {
      "cell_type": "code",
      "metadata": {
        "id": "VxzJpuqd11Jr",
        "colab_type": "code",
        "colab": {
          "base_uri": "https://localhost:8080/",
          "height": 204
        },
        "outputId": "d6be55cd-4dbd-4b05-934a-ff5623fdcf55"
      },
      "source": [
        "# Data dummy 처리(원핫인코딩)\n",
        "\n",
        "one_hot = pd.get_dummies(아이리스)\n",
        "one_hot.head()"
      ],
      "execution_count": 5,
      "outputs": [
        {
          "output_type": "execute_result",
          "data": {
            "text/html": [
              "<div>\n",
              "<style scoped>\n",
              "    .dataframe tbody tr th:only-of-type {\n",
              "        vertical-align: middle;\n",
              "    }\n",
              "\n",
              "    .dataframe tbody tr th {\n",
              "        vertical-align: top;\n",
              "    }\n",
              "\n",
              "    .dataframe thead th {\n",
              "        text-align: right;\n",
              "    }\n",
              "</style>\n",
              "<table border=\"1\" class=\"dataframe\">\n",
              "  <thead>\n",
              "    <tr style=\"text-align: right;\">\n",
              "      <th></th>\n",
              "      <th>꽃잎길이</th>\n",
              "      <th>꽃잎폭</th>\n",
              "      <th>꽃받침길이</th>\n",
              "      <th>꽃받침폭</th>\n",
              "      <th>품종_setosa</th>\n",
              "      <th>품종_versicolor</th>\n",
              "      <th>품종_virginica</th>\n",
              "    </tr>\n",
              "  </thead>\n",
              "  <tbody>\n",
              "    <tr>\n",
              "      <th>0</th>\n",
              "      <td>5.1</td>\n",
              "      <td>3.5</td>\n",
              "      <td>1.4</td>\n",
              "      <td>0.2</td>\n",
              "      <td>1</td>\n",
              "      <td>0</td>\n",
              "      <td>0</td>\n",
              "    </tr>\n",
              "    <tr>\n",
              "      <th>1</th>\n",
              "      <td>4.9</td>\n",
              "      <td>3.0</td>\n",
              "      <td>1.4</td>\n",
              "      <td>0.2</td>\n",
              "      <td>1</td>\n",
              "      <td>0</td>\n",
              "      <td>0</td>\n",
              "    </tr>\n",
              "    <tr>\n",
              "      <th>2</th>\n",
              "      <td>4.7</td>\n",
              "      <td>3.2</td>\n",
              "      <td>1.3</td>\n",
              "      <td>0.2</td>\n",
              "      <td>1</td>\n",
              "      <td>0</td>\n",
              "      <td>0</td>\n",
              "    </tr>\n",
              "    <tr>\n",
              "      <th>3</th>\n",
              "      <td>4.6</td>\n",
              "      <td>3.1</td>\n",
              "      <td>1.5</td>\n",
              "      <td>0.2</td>\n",
              "      <td>1</td>\n",
              "      <td>0</td>\n",
              "      <td>0</td>\n",
              "    </tr>\n",
              "    <tr>\n",
              "      <th>4</th>\n",
              "      <td>5.0</td>\n",
              "      <td>3.6</td>\n",
              "      <td>1.4</td>\n",
              "      <td>0.2</td>\n",
              "      <td>1</td>\n",
              "      <td>0</td>\n",
              "      <td>0</td>\n",
              "    </tr>\n",
              "  </tbody>\n",
              "</table>\n",
              "</div>"
            ],
            "text/plain": [
              "   꽃잎길이  꽃잎폭  꽃받침길이  꽃받침폭  품종_setosa  품종_versicolor  품종_virginica\n",
              "0   5.1  3.5    1.4   0.2          1              0             0\n",
              "1   4.9  3.0    1.4   0.2          1              0             0\n",
              "2   4.7  3.2    1.3   0.2          1              0             0\n",
              "3   4.6  3.1    1.5   0.2          1              0             0\n",
              "4   5.0  3.6    1.4   0.2          1              0             0"
            ]
          },
          "metadata": {
            "tags": []
          },
          "execution_count": 5
        }
      ]
    },
    {
      "cell_type": "code",
      "metadata": {
        "id": "vdaiC3ZC1ye0",
        "colab_type": "code",
        "colab": {}
      },
      "source": [
        "# 독립변수, 종속변수 구분\n",
        "독립 = one_hot[['꽃잎길이', '꽃잎폭', '꽃받침길이', '꽃받침폭']]\n",
        "종속 = one_hot[['품종_setosa', '품종_versicolor','품종_virginica']]"
      ],
      "execution_count": 6,
      "outputs": []
    },
    {
      "cell_type": "code",
      "metadata": {
        "id": "ZjrHFZwB2vMq",
        "colab_type": "code",
        "colab": {
          "base_uri": "https://localhost:8080/",
          "height": 34
        },
        "outputId": "4948f3a0-245a-4a0b-b82a-43a2fa0b8f05"
      },
      "source": [
        "print(독립.shape, 종속.shape)"
      ],
      "execution_count": 7,
      "outputs": [
        {
          "output_type": "stream",
          "text": [
            "(150, 4) (150, 3)\n"
          ],
          "name": "stdout"
        }
      ]
    },
    {
      "cell_type": "code",
      "metadata": {
        "id": "fHznydP42Y1-",
        "colab_type": "code",
        "colab": {}
      },
      "source": [
        "# 모델 구조만들기\n",
        "'''\n",
        "X = tf.keras.layers.Input(shape=[4])\n",
        "H1 = tf.keras.layers.Dense(8, activation = 'swish')(X)\n",
        "H2 = tf.keras.layers.Dense(8, activation = 'swish')(H1)\n",
        "H3 = tf.keras.layers.Dense(8, activation = 'swish')(H2)\n",
        "Y = tf.keras.layers.Dense(3, activation = 'softmax')(H3)\n",
        "model = tf.keras.models.Model(X,Y)\n",
        "model.compile(loss='categorical_crossentropy',\n",
        "              metrics = 'accuracy')\n",
        "'''"
      ],
      "execution_count": null,
      "outputs": []
    },
    {
      "cell_type": "code",
      "metadata": {
        "id": "GZIqYoyTcYw4",
        "colab_type": "code",
        "colab": {}
      },
      "source": [
        "# BatchNormalization 수행\n",
        "X = tf.keras.layers.Input(shape=[4])\n",
        "H = tf.keras.layers.Dense(8)(X)\n",
        "H = tf.keras.layers.BatchNormalization()(H)\n",
        "H = tf.keras.layers.Activation('swish')(H)\n",
        "\n",
        "H = tf.keras.layers.Dense(8)(H)\n",
        "H = tf.keras.layers.BatchNormalization()(H)\n",
        "H = tf.keras.layers.Activation('swish')(H)\n",
        "\n",
        "H = tf.keras.layers.Dense(8)(H)\n",
        "H = tf.keras.layers.BatchNormalization()(H)\n",
        "H = tf.keras.layers.Activation('swish')(H)\n",
        "\n",
        "Y = tf.keras.layers.Dense(3, activation = 'softmax')(H)\n",
        "model = tf.keras.models.Model(X,Y)\n",
        "model.compile(loss='categorical_crossentropy',\n",
        "              metrics = 'accuracy')"
      ],
      "execution_count": 8,
      "outputs": []
    },
    {
      "cell_type": "code",
      "metadata": {
        "id": "BuCY0wegSLJa",
        "colab_type": "code",
        "colab": {
          "base_uri": "https://localhost:8080/",
          "height": 527
        },
        "outputId": "3f7c2fb2-22ff-4c4b-aaa6-3f5a2e6558a6"
      },
      "source": [
        "model.summary()"
      ],
      "execution_count": 9,
      "outputs": [
        {
          "output_type": "stream",
          "text": [
            "Model: \"functional_1\"\n",
            "_________________________________________________________________\n",
            "Layer (type)                 Output Shape              Param #   \n",
            "=================================================================\n",
            "input_1 (InputLayer)         [(None, 4)]               0         \n",
            "_________________________________________________________________\n",
            "dense (Dense)                (None, 8)                 40        \n",
            "_________________________________________________________________\n",
            "batch_normalization (BatchNo (None, 8)                 32        \n",
            "_________________________________________________________________\n",
            "activation (Activation)      (None, 8)                 0         \n",
            "_________________________________________________________________\n",
            "dense_1 (Dense)              (None, 8)                 72        \n",
            "_________________________________________________________________\n",
            "batch_normalization_1 (Batch (None, 8)                 32        \n",
            "_________________________________________________________________\n",
            "activation_1 (Activation)    (None, 8)                 0         \n",
            "_________________________________________________________________\n",
            "dense_2 (Dense)              (None, 8)                 72        \n",
            "_________________________________________________________________\n",
            "batch_normalization_2 (Batch (None, 8)                 32        \n",
            "_________________________________________________________________\n",
            "activation_2 (Activation)    (None, 8)                 0         \n",
            "_________________________________________________________________\n",
            "dense_3 (Dense)              (None, 3)                 27        \n",
            "=================================================================\n",
            "Total params: 307\n",
            "Trainable params: 259\n",
            "Non-trainable params: 48\n",
            "_________________________________________________________________\n"
          ],
          "name": "stdout"
        }
      ]
    },
    {
      "cell_type": "code",
      "metadata": {
        "id": "Mn_taniP3Fcs",
        "colab_type": "code",
        "colab": {}
      },
      "source": [
        "model.fit(독립,종속, epochs=1000, verbose=1)\n"
      ],
      "execution_count": null,
      "outputs": []
    },
    {
      "cell_type": "code",
      "metadata": {
        "id": "7ZA_KEjb3RoL",
        "colab_type": "code",
        "colab": {
          "base_uri": "https://localhost:8080/",
          "height": 714
        },
        "outputId": "5f02405e-b7dc-45ae-fd46-87d197080a78"
      },
      "source": [
        "print(model.predict(독립[-20:]))\n",
        "print(종속[-20:])"
      ],
      "execution_count": 12,
      "outputs": [
        {
          "output_type": "stream",
          "text": [
            "[[1.15803568e-05 2.59691407e-03 9.97391462e-01]\n",
            " [3.89472916e-07 1.01512633e-05 9.99989510e-01]\n",
            " [9.15840019e-07 4.75733286e-05 9.99951482e-01]\n",
            " [1.42290024e-03 1.38769180e-01 8.59807849e-01]\n",
            " [1.32953210e-06 5.10488776e-03 9.94893789e-01]\n",
            " [8.66620940e-06 7.59385657e-05 9.99915361e-01]\n",
            " [4.81482854e-10 7.22007477e-04 9.99278009e-01]\n",
            " [2.09925420e-05 7.57675292e-03 9.92402315e-01]\n",
            " [1.52491877e-04 1.20298453e-01 8.79549086e-01]\n",
            " [6.50003421e-05 4.54614783e-04 9.99480426e-01]\n",
            " [2.25128346e-07 9.28413613e-08 9.99999642e-01]\n",
            " [1.20642071e-07 1.58547300e-05 9.99984026e-01]\n",
            " [3.34939364e-06 1.05377836e-02 9.89458919e-01]\n",
            " [5.60177511e-07 6.31110925e-06 9.99993086e-01]\n",
            " [1.44191805e-08 2.70900617e-08 1.00000000e+00]\n",
            " [2.75519909e-07 1.29354333e-07 9.99999642e-01]\n",
            " [5.62850728e-05 3.96525487e-03 9.95978475e-01]\n",
            " [9.46873333e-05 1.52112124e-03 9.98384237e-01]\n",
            " [1.94456562e-09 1.29161067e-02 9.87083912e-01]\n",
            " [5.90327772e-06 1.65182844e-01 8.34811270e-01]]\n",
            "     품종_setosa  품종_versicolor  품종_virginica\n",
            "130          0              0             1\n",
            "131          0              0             1\n",
            "132          0              0             1\n",
            "133          0              0             1\n",
            "134          0              0             1\n",
            "135          0              0             1\n",
            "136          0              0             1\n",
            "137          0              0             1\n",
            "138          0              0             1\n",
            "139          0              0             1\n",
            "140          0              0             1\n",
            "141          0              0             1\n",
            "142          0              0             1\n",
            "143          0              0             1\n",
            "144          0              0             1\n",
            "145          0              0             1\n",
            "146          0              0             1\n",
            "147          0              0             1\n",
            "148          0              0             1\n",
            "149          0              0             1\n"
          ],
          "name": "stdout"
        }
      ]
    },
    {
      "cell_type": "code",
      "metadata": {
        "id": "cAYQF7_q4JKu",
        "colab_type": "code",
        "colab": {}
      },
      "source": [
        "print(model.get_weights())"
      ],
      "execution_count": null,
      "outputs": []
    },
    {
      "cell_type": "markdown",
      "metadata": {
        "id": "hzD822Dj4PBW",
        "colab_type": "text"
      },
      "source": [
        "Weight를 보면 \n",
        "\n",
        "1열 0.156 , 2.065, -2.917, -1.574, (0.824)\n",
        "\n",
        "\n",
        "이게 setosa 에 대한 가중치임. 그리고 마지막 0.824는 편향(bias)"
      ]
    }
  ]
}