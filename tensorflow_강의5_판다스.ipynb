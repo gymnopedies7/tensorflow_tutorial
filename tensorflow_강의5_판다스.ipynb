{
  "nbformat": 4,
  "nbformat_minor": 0,
  "metadata": {
    "colab": {
      "name": "tensorflow 강의5_판다스",
      "provenance": [],
      "collapsed_sections": [],
      "authorship_tag": "ABX9TyOfhOo713ZRRsH2j/ZhqZG4",
      "include_colab_link": true
    },
    "kernelspec": {
      "name": "python3",
      "display_name": "Python 3"
    }
  },
  "cells": [
    {
      "cell_type": "markdown",
      "metadata": {
        "id": "view-in-github",
        "colab_type": "text"
      },
      "source": [
        "<a href=\"https://colab.research.google.com/github/gymnopedies7/tensorflow_tutorial/blob/master/tensorflow_%EA%B0%95%EC%9D%985_%ED%8C%90%EB%8B%A4%EC%8A%A4.ipynb\" target=\"_parent\"><img src=\"https://colab.research.google.com/assets/colab-badge.svg\" alt=\"Open In Colab\"/></a>"
      ]
    },
    {
      "cell_type": "markdown",
      "metadata": {
        "id": "HWCIIS-Oamt2",
        "colab_type": "text"
      },
      "source": [
        "# 판다스 기본 사용법"
      ]
    },
    {
      "cell_type": "code",
      "metadata": {
        "id": "jIw5VozABIrn",
        "colab_type": "code",
        "colab": {}
      },
      "source": [
        "import pandas as pd\n",
        "\n",
        "# 파일로부터 데이터 읽어오기\n",
        "파일경로 = 'https://raw.githubusercontent.com/blackdew/tensorflow1/master/csv/lemonade.csv'\n",
        "레모네이드 = pd.read_csv(파일경로)\n",
        " \n",
        "파일경로 = 'https://raw.githubusercontent.com/blackdew/tensorflow1/master/csv/boston.csv'\n",
        "보스턴 = pd.read_csv(파일경로)\n",
        " \n",
        "파일경로 = 'https://raw.githubusercontent.com/blackdew/tensorflow1/master/csv/iris.csv'\n",
        "아이리스 = pd.read_csv(파일경로)\n"
      ],
      "execution_count": null,
      "outputs": []
    },
    {
      "cell_type": "code",
      "metadata": {
        "id": "sIuIg-MFSizR",
        "colab_type": "code",
        "colab": {
          "base_uri": "https://localhost:8080/",
          "height": 34
        },
        "outputId": "b4f5f245-9086-40fc-836c-3fee3f55569f"
      },
      "source": [
        "# 데이터 shape(모양) 확인\n",
        "\n",
        "레모네이드.shape\n",
        "보스턴.shape\n",
        "아이리스.shape"
      ],
      "execution_count": null,
      "outputs": [
        {
          "output_type": "execute_result",
          "data": {
            "text/plain": [
              "(150, 5)"
            ]
          },
          "metadata": {
            "tags": []
          },
          "execution_count": 5
        }
      ]
    },
    {
      "cell_type": "code",
      "metadata": {
        "id": "45_ALCtjS7bL",
        "colab_type": "code",
        "colab": {
          "base_uri": "https://localhost:8080/",
          "height": 102
        },
        "outputId": "10ad59fc-6021-4df4-b570-05653ac89d81"
      },
      "source": [
        "print(레모네이드.columns)\n",
        "print(보스턴.columns)\n",
        "print(아이리스.columns)"
      ],
      "execution_count": 12,
      "outputs": [
        {
          "output_type": "stream",
          "text": [
            "Index(['온도', '판매량'], dtype='object')\n",
            "Index(['crim', 'zn', 'indus', 'chas', 'nox', 'rm', 'age', 'dis', 'rad', 'tax',\n",
            "       'ptratio', 'b', 'lstat', 'medv'],\n",
            "      dtype='object')\n",
            "Index(['꽃잎길이', '꽃잎폭', '꽃받침길이', '꽃받침폭', '품종'], dtype='object')\n"
          ],
          "name": "stdout"
        }
      ]
    },
    {
      "cell_type": "code",
      "metadata": {
        "id": "0H9fQDkcYLj9",
        "colab_type": "code",
        "colab": {}
      },
      "source": [
        "# 독립변수 선정\n",
        "\n",
        "레몬_column = 레모네이드[['온도']]\n",
        "보스턴_column = 보스턴[['crim', 'zn', 'indus', 'chas', 'nox', 'rm', 'age', 'dis', 'rad', 'tax',\n",
        "       'ptratio', 'b', 'lstat']]\n",
        "아이리스_column = 아이리스[['꽃잎길이', '꽃잎폭', '꽃받침길이', '꽃받침폭']]\n",
        "\n",
        "레몬_target = 레모네이드[['판매량']]\n",
        "보스턴_target = 보스턴[['medv']]\n",
        "아이리스_target = 아이리스[['품종']]"
      ],
      "execution_count": 18,
      "outputs": []
    },
    {
      "cell_type": "markdown",
      "metadata": {
        "id": "23aKMBuzat3z",
        "colab_type": "text"
      },
      "source": [
        "# 레모네이드 판매예측"
      ]
    },
    {
      "cell_type": "code",
      "metadata": {
        "id": "uw8-Z-Biadmc",
        "colab_type": "code",
        "colab": {}
      },
      "source": [
        "# 데이터 준비\n",
        "import tensorflow as tf\n",
        "import pandas as pd\n",
        "\n",
        "\n",
        "파일경로 = 'https://raw.githubusercontent.com/blackdew/tensorflow1/master/csv/lemonade.csv'\n",
        "레모네이드 = pd.read_csv(파일경로)\n",
        "\n",
        "독립 = 레모네이드[['온도']]\n",
        "종속 = 레모네이드[['판매량']]"
      ],
      "execution_count": 2,
      "outputs": []
    },
    {
      "cell_type": "code",
      "metadata": {
        "id": "HUmwVntfD5hh",
        "colab_type": "code",
        "colab": {}
      },
      "source": [
        "# 모델 구조 만들기\n",
        "\n",
        "X = tf.keras.layers.Input(shape=[1])\n",
        "Y = tf.keras.layers.Dense(1)(X)\n",
        "\n",
        "model = tf.keras.models.Model(X,Y)\n",
        "model.compile(loss='mse')"
      ],
      "execution_count": 4,
      "outputs": []
    },
    {
      "cell_type": "code",
      "metadata": {
        "id": "YmqVC5t1D8Dk",
        "colab_type": "code",
        "colab": {
          "base_uri": "https://localhost:8080/",
          "height": 374
        },
        "outputId": "66818442-261c-474d-c9a0-b07dfdd9ae91"
      },
      "source": [
        "# 모델 학습\n",
        "\n",
        "model.fit(독립, 종속, epochs=10)"
      ],
      "execution_count": 13,
      "outputs": [
        {
          "output_type": "stream",
          "text": [
            "Epoch 1/10\n",
            "1/1 [==============================] - 0s 2ms/step - loss: 3.0863e-04\n",
            "Epoch 2/10\n",
            "1/1 [==============================] - 0s 1ms/step - loss: 3.0853e-04\n",
            "Epoch 3/10\n",
            "1/1 [==============================] - 0s 1ms/step - loss: 3.0832e-04\n",
            "Epoch 4/10\n",
            "1/1 [==============================] - 0s 1ms/step - loss: 3.0812e-04\n",
            "Epoch 5/10\n",
            "1/1 [==============================] - 0s 2ms/step - loss: 3.0791e-04\n",
            "Epoch 6/10\n",
            "1/1 [==============================] - 0s 2ms/step - loss: 3.0774e-04\n",
            "Epoch 7/10\n",
            "1/1 [==============================] - 0s 1ms/step - loss: 3.0759e-04\n",
            "Epoch 8/10\n",
            "1/1 [==============================] - 0s 2ms/step - loss: 3.0739e-04\n",
            "Epoch 9/10\n",
            "1/1 [==============================] - 0s 2ms/step - loss: 3.0724e-04\n",
            "Epoch 10/10\n",
            "1/1 [==============================] - 0s 2ms/step - loss: 3.0718e-04\n"
          ],
          "name": "stdout"
        },
        {
          "output_type": "execute_result",
          "data": {
            "text/plain": [
              "<tensorflow.python.keras.callbacks.History at 0x7ff93e84b7f0>"
            ]
          },
          "metadata": {
            "tags": []
          },
          "execution_count": 13
        }
      ]
    },
    {
      "cell_type": "code",
      "metadata": {
        "id": "oAiKoG1rD-Dr",
        "colab_type": "code",
        "colab": {
          "base_uri": "https://localhost:8080/",
          "height": 34
        },
        "outputId": "23f1c472-a18e-4094-b857-0c32624266d8"
      },
      "source": [
        "# 모델 예측(이용)\n",
        "print(\"Predictions:\", model.predict([[10]]))"
      ],
      "execution_count": 10,
      "outputs": [
        {
          "output_type": "stream",
          "text": [
            "Predictions: [[20.109114]]\n"
          ],
          "name": "stdout"
        }
      ]
    }
  ]
}