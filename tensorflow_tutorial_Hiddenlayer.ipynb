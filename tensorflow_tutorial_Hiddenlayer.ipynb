{
  "nbformat": 4,
  "nbformat_minor": 0,
  "metadata": {
    "colab": {
      "name": "tensorflow_tutorial_Hiddenlayer",
      "provenance": [],
      "collapsed_sections": [],
      "authorship_tag": "ABX9TyNk55gpyXra5pxDClhHHjH4",
      "include_colab_link": true
    },
    "kernelspec": {
      "name": "python3",
      "display_name": "Python 3"
    }
  },
  "cells": [
    {
      "cell_type": "markdown",
      "metadata": {
        "id": "view-in-github",
        "colab_type": "text"
      },
      "source": [
        "<a href=\"https://colab.research.google.com/github/gymnopedies7/tensorflow_tutorial/blob/master/tensorflow_tutorial_Hiddenlayer.ipynb\" target=\"_parent\"><img src=\"https://colab.research.google.com/assets/colab-badge.svg\" alt=\"Open In Colab\"/></a>"
      ]
    },
    {
      "cell_type": "code",
      "metadata": {
        "id": "BI9CzcOV9r3y",
        "colab_type": "code",
        "colab": {}
      },
      "source": [
        "# Libray Import\n",
        "import tensorflow as tf\n",
        "import pandas as pd\n",
        "\n",
        "\n",
        "# Data 준비\n",
        "파일경로 = 'https://raw.githubusercontent.com/blackdew/tensorflow1/master/csv/boston.csv'\n",
        "보스턴 = pd.read_csv(파일경로)"
      ],
      "execution_count": null,
      "outputs": []
    },
    {
      "cell_type": "code",
      "metadata": {
        "id": "4AtBdB3S9_kD",
        "colab_type": "code",
        "colab": {
          "base_uri": "https://localhost:8080/",
          "height": 204
        },
        "outputId": "35ce0615-2834-49eb-8a0e-b7c3915a211c"
      },
      "source": [
        "보스턴.head()"
      ],
      "execution_count": null,
      "outputs": [
        {
          "output_type": "execute_result",
          "data": {
            "text/html": [
              "<div>\n",
              "<style scoped>\n",
              "    .dataframe tbody tr th:only-of-type {\n",
              "        vertical-align: middle;\n",
              "    }\n",
              "\n",
              "    .dataframe tbody tr th {\n",
              "        vertical-align: top;\n",
              "    }\n",
              "\n",
              "    .dataframe thead th {\n",
              "        text-align: right;\n",
              "    }\n",
              "</style>\n",
              "<table border=\"1\" class=\"dataframe\">\n",
              "  <thead>\n",
              "    <tr style=\"text-align: right;\">\n",
              "      <th></th>\n",
              "      <th>crim</th>\n",
              "      <th>zn</th>\n",
              "      <th>indus</th>\n",
              "      <th>chas</th>\n",
              "      <th>nox</th>\n",
              "      <th>rm</th>\n",
              "      <th>age</th>\n",
              "      <th>dis</th>\n",
              "      <th>rad</th>\n",
              "      <th>tax</th>\n",
              "      <th>ptratio</th>\n",
              "      <th>b</th>\n",
              "      <th>lstat</th>\n",
              "      <th>medv</th>\n",
              "    </tr>\n",
              "  </thead>\n",
              "  <tbody>\n",
              "    <tr>\n",
              "      <th>0</th>\n",
              "      <td>0.00632</td>\n",
              "      <td>18.0</td>\n",
              "      <td>2.31</td>\n",
              "      <td>0</td>\n",
              "      <td>0.538</td>\n",
              "      <td>6.575</td>\n",
              "      <td>65.2</td>\n",
              "      <td>4.0900</td>\n",
              "      <td>1</td>\n",
              "      <td>296</td>\n",
              "      <td>15.3</td>\n",
              "      <td>396.90</td>\n",
              "      <td>4.98</td>\n",
              "      <td>24.0</td>\n",
              "    </tr>\n",
              "    <tr>\n",
              "      <th>1</th>\n",
              "      <td>0.02731</td>\n",
              "      <td>0.0</td>\n",
              "      <td>7.07</td>\n",
              "      <td>0</td>\n",
              "      <td>0.469</td>\n",
              "      <td>6.421</td>\n",
              "      <td>78.9</td>\n",
              "      <td>4.9671</td>\n",
              "      <td>2</td>\n",
              "      <td>242</td>\n",
              "      <td>17.8</td>\n",
              "      <td>396.90</td>\n",
              "      <td>9.14</td>\n",
              "      <td>21.6</td>\n",
              "    </tr>\n",
              "    <tr>\n",
              "      <th>2</th>\n",
              "      <td>0.02729</td>\n",
              "      <td>0.0</td>\n",
              "      <td>7.07</td>\n",
              "      <td>0</td>\n",
              "      <td>0.469</td>\n",
              "      <td>7.185</td>\n",
              "      <td>61.1</td>\n",
              "      <td>4.9671</td>\n",
              "      <td>2</td>\n",
              "      <td>242</td>\n",
              "      <td>17.8</td>\n",
              "      <td>392.83</td>\n",
              "      <td>4.03</td>\n",
              "      <td>34.7</td>\n",
              "    </tr>\n",
              "    <tr>\n",
              "      <th>3</th>\n",
              "      <td>0.03237</td>\n",
              "      <td>0.0</td>\n",
              "      <td>2.18</td>\n",
              "      <td>0</td>\n",
              "      <td>0.458</td>\n",
              "      <td>6.998</td>\n",
              "      <td>45.8</td>\n",
              "      <td>6.0622</td>\n",
              "      <td>3</td>\n",
              "      <td>222</td>\n",
              "      <td>18.7</td>\n",
              "      <td>394.63</td>\n",
              "      <td>2.94</td>\n",
              "      <td>33.4</td>\n",
              "    </tr>\n",
              "    <tr>\n",
              "      <th>4</th>\n",
              "      <td>0.06905</td>\n",
              "      <td>0.0</td>\n",
              "      <td>2.18</td>\n",
              "      <td>0</td>\n",
              "      <td>0.458</td>\n",
              "      <td>7.147</td>\n",
              "      <td>54.2</td>\n",
              "      <td>6.0622</td>\n",
              "      <td>3</td>\n",
              "      <td>222</td>\n",
              "      <td>18.7</td>\n",
              "      <td>396.90</td>\n",
              "      <td>5.33</td>\n",
              "      <td>36.2</td>\n",
              "    </tr>\n",
              "  </tbody>\n",
              "</table>\n",
              "</div>"
            ],
            "text/plain": [
              "      crim    zn  indus  chas    nox  ...  tax  ptratio       b  lstat  medv\n",
              "0  0.00632  18.0   2.31     0  0.538  ...  296     15.3  396.90   4.98  24.0\n",
              "1  0.02731   0.0   7.07     0  0.469  ...  242     17.8  396.90   9.14  21.6\n",
              "2  0.02729   0.0   7.07     0  0.469  ...  242     17.8  392.83   4.03  34.7\n",
              "3  0.03237   0.0   2.18     0  0.458  ...  222     18.7  394.63   2.94  33.4\n",
              "4  0.06905   0.0   2.18     0  0.458  ...  222     18.7  396.90   5.33  36.2\n",
              "\n",
              "[5 rows x 14 columns]"
            ]
          },
          "metadata": {
            "tags": []
          },
          "execution_count": 2
        }
      ]
    },
    {
      "cell_type": "code",
      "metadata": {
        "id": "23JaGxfo-Cin",
        "colab_type": "code",
        "colab": {
          "base_uri": "https://localhost:8080/",
          "height": 68
        },
        "outputId": "421b7d3a-e11f-4f95-e457-4f7a5a41e5dd"
      },
      "source": [
        "보스턴.columns"
      ],
      "execution_count": null,
      "outputs": [
        {
          "output_type": "execute_result",
          "data": {
            "text/plain": [
              "Index(['crim', 'zn', 'indus', 'chas', 'nox', 'rm', 'age', 'dis', 'rad', 'tax',\n",
              "       'ptratio', 'b', 'lstat', 'medv'],\n",
              "      dtype='object')"
            ]
          },
          "metadata": {
            "tags": []
          },
          "execution_count": 5
        }
      ]
    },
    {
      "cell_type": "code",
      "metadata": {
        "id": "hRmH3Xqn-IdJ",
        "colab_type": "code",
        "colab": {}
      },
      "source": [
        "#종속변수, 독립변수 나누기\n",
        "\n",
        "독립 = 보스턴[['crim', 'zn', 'indus', 'chas', 'nox', 'rm', 'age', 'dis', 'rad', 'tax',\n",
        "       'ptratio', 'b', 'lstat']]\n",
        "종속 = 보스턴[['medv']]"
      ],
      "execution_count": null,
      "outputs": []
    },
    {
      "cell_type": "code",
      "metadata": {
        "id": "SZkvgldY-Van",
        "colab_type": "code",
        "colab": {}
      },
      "source": [
        "# 모델구성\n",
        "\n",
        "X = tf.keras.layers.Input(shape=[13])\n",
        "H = tf.keras.layers.Dense(10, activation='swish')(X)\n",
        "Y = tf.keras.layers.Dense(1)(H)\n",
        "model = tf.keras.models.Model(X,Y)\n",
        "model.compile(loss='mse')"
      ],
      "execution_count": null,
      "outputs": []
    },
    {
      "cell_type": "code",
      "metadata": {
        "id": "UNT5zF4K_ihi",
        "colab_type": "code",
        "colab": {
          "base_uri": "https://localhost:8080/",
          "height": 255
        },
        "outputId": "d25ae361-db9e-4197-f338-5c91b4b34812"
      },
      "source": [
        "model.summary()"
      ],
      "execution_count": null,
      "outputs": [
        {
          "output_type": "stream",
          "text": [
            "Model: \"functional_1\"\n",
            "_________________________________________________________________\n",
            "Layer (type)                 Output Shape              Param #   \n",
            "=================================================================\n",
            "input_2 (InputLayer)         [(None, 13)]              0         \n",
            "_________________________________________________________________\n",
            "dense_2 (Dense)              (None, 10)                140       \n",
            "_________________________________________________________________\n",
            "dense_3 (Dense)              (None, 1)                 11        \n",
            "=================================================================\n",
            "Total params: 151\n",
            "Trainable params: 151\n",
            "Non-trainable params: 0\n",
            "_________________________________________________________________\n"
          ],
          "name": "stdout"
        }
      ]
    },
    {
      "cell_type": "code",
      "metadata": {
        "id": "N5ykEyWC_QPx",
        "colab_type": "code",
        "colab": {
          "base_uri": "https://localhost:8080/",
          "height": 34
        },
        "outputId": "55a2aed2-097c-40bf-ea2f-069ba9f641ab"
      },
      "source": [
        "# 모델 학습(fit)\n",
        "\n",
        "model.fit(독립,종속, epochs=500, verbose = 0)"
      ],
      "execution_count": null,
      "outputs": [
        {
          "output_type": "execute_result",
          "data": {
            "text/plain": [
              "<tensorflow.python.keras.callbacks.History at 0x7fbc6450a9e8>"
            ]
          },
          "metadata": {
            "tags": []
          },
          "execution_count": 11
        }
      ]
    },
    {
      "cell_type": "code",
      "metadata": {
        "id": "5mojD22v_aN8",
        "colab_type": "code",
        "colab": {
          "base_uri": "https://localhost:8080/",
          "height": 374
        },
        "outputId": "0fb3b1b9-3469-42cc-cf49-c6136291b868"
      },
      "source": [
        "model.fit(독립,종속, epochs=1000, verbose = 0)\n",
        "model.fit(독립,종속, epochs=10)"
      ],
      "execution_count": null,
      "outputs": [
        {
          "output_type": "stream",
          "text": [
            "Epoch 1/10\n",
            "16/16 [==============================] - 0s 1ms/step - loss: 24.0973\n",
            "Epoch 2/10\n",
            "16/16 [==============================] - 0s 1ms/step - loss: 27.9218\n",
            "Epoch 3/10\n",
            "16/16 [==============================] - 0s 1ms/step - loss: 23.6789\n",
            "Epoch 4/10\n",
            "16/16 [==============================] - 0s 1ms/step - loss: 24.7236\n",
            "Epoch 5/10\n",
            "16/16 [==============================] - 0s 1ms/step - loss: 27.0991\n",
            "Epoch 6/10\n",
            "16/16 [==============================] - 0s 1ms/step - loss: 24.4585\n",
            "Epoch 7/10\n",
            "16/16 [==============================] - 0s 1ms/step - loss: 25.6308\n",
            "Epoch 8/10\n",
            "16/16 [==============================] - 0s 1ms/step - loss: 25.6277\n",
            "Epoch 9/10\n",
            "16/16 [==============================] - 0s 1ms/step - loss: 22.5493\n",
            "Epoch 10/10\n",
            "16/16 [==============================] - 0s 1ms/step - loss: 26.8456\n"
          ],
          "name": "stdout"
        },
        {
          "output_type": "execute_result",
          "data": {
            "text/plain": [
              "<tensorflow.python.keras.callbacks.History at 0x7fbc61e927f0>"
            ]
          },
          "metadata": {
            "tags": []
          },
          "execution_count": 12
        }
      ]
    },
    {
      "cell_type": "code",
      "metadata": {
        "id": "25dnHdRy_tLL",
        "colab_type": "code",
        "colab": {
          "base_uri": "https://localhost:8080/",
          "height": 204
        },
        "outputId": "ae7a3564-c69a-4f13-e5b3-80f8f22661a1"
      },
      "source": [
        "print(model.predict(독립[:5]))\n",
        "print(종속[:5])"
      ],
      "execution_count": null,
      "outputs": [
        {
          "output_type": "stream",
          "text": [
            "[[28.259642]\n",
            " [23.2499  ]\n",
            " [28.53048 ]\n",
            " [28.308615]\n",
            " [27.547266]]\n",
            "   medv\n",
            "0  24.0\n",
            "1  21.6\n",
            "2  34.7\n",
            "3  33.4\n",
            "4  36.2\n"
          ],
          "name": "stdout"
        }
      ]
    },
    {
      "cell_type": "code",
      "metadata": {
        "id": "AZP0PL2Z_zQU",
        "colab_type": "code",
        "colab": {
          "base_uri": "https://localhost:8080/",
          "height": 663
        },
        "outputId": "b5c4024c-dd85-477b-cfc2-d238e3dc4dcd"
      },
      "source": [
        "print(model.get_weights())"
      ],
      "execution_count": null,
      "outputs": [
        {
          "output_type": "stream",
          "text": [
            "[array([[ 0.30805823, -2.1078813 , -0.19062759,  0.13903701, -0.08492528,\n",
            "        -0.17536667,  0.06721567,  0.19099821,  0.29758757, -0.51191854],\n",
            "       [ 0.45077008,  0.13036318,  0.21517633,  0.1109008 ,  0.30247083,\n",
            "         0.29035938, -0.2871058 , -0.06739677, -0.15113342,  0.19826673],\n",
            "       [-0.1710183 ,  0.48208073,  0.2698689 , -0.14150989,  0.04329041,\n",
            "         0.11039604,  0.33523104, -0.11509359,  0.35640785, -0.46178904],\n",
            "       [ 0.9873582 ,  0.54817474, -0.767633  ,  0.44801474, -0.9682882 ,\n",
            "         1.8502419 ,  0.16949375, -1.2779735 , -1.7510948 ,  0.04952135],\n",
            "       [ 0.36726338, -0.6534231 ,  0.4746595 , -0.20409963, -0.521797  ,\n",
            "        -0.16716821, -0.07312188,  0.10938413, -0.49812242,  0.21194084],\n",
            "       [ 0.6977878 , -1.4596045 ,  0.7832007 , -0.10807928, -0.826883  ,\n",
            "         0.90889305,  1.1281304 , -1.2389586 , -0.48438382,  0.04492147],\n",
            "       [ 0.3693866 ,  0.04357393, -0.0949193 ,  0.27876517,  0.04736292,\n",
            "         0.28082624, -0.07984513,  0.23297234,  0.2426236 , -0.29753765],\n",
            "       [-0.2851449 ,  0.59369636, -0.07444722,  0.36593676, -0.01920335,\n",
            "        -0.43382907, -0.16735822,  0.4195847 ,  0.19382781,  0.38377213],\n",
            "       [ 0.33340976, -0.4892293 ,  0.31190553,  0.40310103,  0.10275524,\n",
            "        -0.16023326,  0.5549309 ,  0.01070037, -0.42159602, -0.07791641],\n",
            "       [ 0.00821109, -0.26608038,  0.07148862, -0.0878537 ,  0.24352345,\n",
            "         0.25555736, -0.35053968, -0.00764986,  0.07514903, -0.46132934],\n",
            "       [-0.3505446 ,  0.64290047, -0.44679734,  0.27367452, -0.01933109,\n",
            "        -0.21368551,  0.23088199,  0.01994616,  0.6538275 , -0.13340603],\n",
            "       [ 0.32636425,  0.40323836, -0.1171632 , -0.0712418 , -0.11011727,\n",
            "        -0.06875191,  0.52102154,  0.16021824,  0.307497  ,  0.2002466 ],\n",
            "       [-0.47941554, -0.37762913, -0.6146426 ,  0.40932077,  0.28234985,\n",
            "        -0.41382888, -0.04500616,  0.3390962 ,  0.34849212, -0.24216789]],\n",
            "      dtype=float32), array([ 0.31594002, -0.25101268, -0.1814351 , -0.02362687, -0.28144255,\n",
            "        0.31792927,  0.32857054, -0.3325322 , -0.34321404, -0.02938789],\n",
            "      dtype=float32), array([[ 0.37789392],\n",
            "       [-0.5074536 ],\n",
            "       [-0.5034977 ],\n",
            "       [-2.2586627 ],\n",
            "       [-0.29551074],\n",
            "       [ 0.48343328],\n",
            "       [ 0.5715751 ],\n",
            "       [-0.6921106 ],\n",
            "       [-0.14509133],\n",
            "       [-1.248706  ]], dtype=float32), array([0.32380873], dtype=float32)]\n"
          ],
          "name": "stdout"
        }
      ]
    }
  ]
}