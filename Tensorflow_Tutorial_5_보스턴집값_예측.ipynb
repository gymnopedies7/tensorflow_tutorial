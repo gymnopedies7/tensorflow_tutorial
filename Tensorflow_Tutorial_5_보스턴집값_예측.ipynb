{
  "nbformat": 4,
  "nbformat_minor": 0,
  "metadata": {
    "colab": {
      "name": "Tensorflow Tutorial_5 보스턴집값 예측.ipynb",
      "provenance": [],
      "authorship_tag": "ABX9TyNDQbFz3Ad+rVvBKmjSiTQ1",
      "include_colab_link": true
    },
    "kernelspec": {
      "name": "python3",
      "display_name": "Python 3"
    }
  },
  "cells": [
    {
      "cell_type": "markdown",
      "metadata": {
        "id": "view-in-github",
        "colab_type": "text"
      },
      "source": [
        "<a href=\"https://colab.research.google.com/github/gymnopedies7/tensorflow_tutorial/blob/master/Tensorflow_Tutorial_5_%EB%B3%B4%EC%8A%A4%ED%84%B4%EC%A7%91%EA%B0%92_%EC%98%88%EC%B8%A1.ipynb\" target=\"_parent\"><img src=\"https://colab.research.google.com/assets/colab-badge.svg\" alt=\"Open In Colab\"/></a>"
      ]
    },
    {
      "cell_type": "code",
      "metadata": {
        "id": "uMo0zTpTHCzq",
        "colab_type": "code",
        "colab": {}
      },
      "source": [
        "# 라이브러리 import 및 데이터 준비\n",
        "\n",
        "import tensorflow as tf\n",
        "import pandas as pd\n",
        "\n",
        "파일경로 = 'https://raw.githubusercontent.com/blackdew/tensorflow1/master/csv/boston.csv'\n",
        "보스턴 = pd.read_csv(파일경로)"
      ],
      "execution_count": 1,
      "outputs": []
    },
    {
      "cell_type": "code",
      "metadata": {
        "id": "cEqd-GVnHbhF",
        "colab_type": "code",
        "colab": {
          "base_uri": "https://localhost:8080/",
          "height": 85
        },
        "outputId": "1d21d181-0b49-47f8-a55c-3482d406a07b"
      },
      "source": [
        "print(보스턴.columns)\n",
        "print(보스턴.shape)"
      ],
      "execution_count": 8,
      "outputs": [
        {
          "output_type": "stream",
          "text": [
            "Index(['crim', 'zn', 'indus', 'chas', 'nox', 'rm', 'age', 'dis', 'rad', 'tax',\n",
            "       'ptratio', 'b', 'lstat', 'medv'],\n",
            "      dtype='object')\n",
            "(506, 14)\n"
          ],
          "name": "stdout"
        }
      ]
    },
    {
      "cell_type": "code",
      "metadata": {
        "id": "Ojhbx8GfHkUZ",
        "colab_type": "code",
        "colab": {}
      },
      "source": [
        "독립변수 = 보스턴[['crim', 'zn', 'indus', 'chas', 'nox', 'rm', 'age', 'dis', 'rad', 'tax',\n",
        "       'ptratio', 'b', 'lstat']]\n",
        "\n",
        "종속변수 = 보스턴[['medv']]"
      ],
      "execution_count": 9,
      "outputs": []
    },
    {
      "cell_type": "code",
      "metadata": {
        "id": "ogUYIXAMH3uQ",
        "colab_type": "code",
        "colab": {}
      },
      "source": [
        "# 모델 구조 만들기\n",
        "\n",
        "X = tf.keras.layers.Input(shape=[13])\n",
        "Y = tf.keras.layers.Dense(1)(X)\n",
        "\n",
        "model = tf.keras.models.Model(X,Y)\n",
        "model.compile(loss='mse')"
      ],
      "execution_count": 12,
      "outputs": []
    },
    {
      "cell_type": "code",
      "metadata": {
        "id": "6DnWT3rjINQw",
        "colab_type": "code",
        "colab": {
          "base_uri": "https://localhost:8080/",
          "height": 374
        },
        "outputId": "582df082-77f1-4138-a13e-598195927130"
      },
      "source": [
        "# 모델 학습시키기\n",
        "\n",
        "model.fit(독립변수, 종속변수, epochs= 10)"
      ],
      "execution_count": 17,
      "outputs": [
        {
          "output_type": "stream",
          "text": [
            "Epoch 1/10\n",
            "16/16 [==============================] - 0s 1ms/step - loss: 25.3488\n",
            "Epoch 2/10\n",
            "16/16 [==============================] - 0s 1ms/step - loss: 25.4041\n",
            "Epoch 3/10\n",
            "16/16 [==============================] - 0s 1ms/step - loss: 24.9506\n",
            "Epoch 4/10\n",
            "16/16 [==============================] - 0s 1ms/step - loss: 24.8899\n",
            "Epoch 5/10\n",
            "16/16 [==============================] - 0s 1ms/step - loss: 24.9237\n",
            "Epoch 6/10\n",
            "16/16 [==============================] - 0s 1ms/step - loss: 24.9404\n",
            "Epoch 7/10\n",
            "16/16 [==============================] - 0s 1ms/step - loss: 24.7653\n",
            "Epoch 8/10\n",
            "16/16 [==============================] - 0s 1ms/step - loss: 24.6947\n",
            "Epoch 9/10\n",
            "16/16 [==============================] - 0s 2ms/step - loss: 25.2412\n",
            "Epoch 10/10\n",
            "16/16 [==============================] - 0s 1ms/step - loss: 25.1461\n"
          ],
          "name": "stdout"
        },
        {
          "output_type": "execute_result",
          "data": {
            "text/plain": [
              "<tensorflow.python.keras.callbacks.History at 0x7f54418142b0>"
            ]
          },
          "metadata": {
            "tags": []
          },
          "execution_count": 17
        }
      ]
    },
    {
      "cell_type": "code",
      "metadata": {
        "id": "yIkiO0CoIlN5",
        "colab_type": "code",
        "colab": {
          "base_uri": "https://localhost:8080/",
          "height": 204
        },
        "outputId": "14131fe2-2f9c-46c3-847d-1cfe7685fbf2"
      },
      "source": [
        "# 모델이용\n",
        "print(model.predict(독립변수[5:10]))\n",
        "print(종속변수[5:10])"
      ],
      "execution_count": 19,
      "outputs": [
        {
          "output_type": "stream",
          "text": [
            "[[25.387066]\n",
            " [20.762596]\n",
            " [17.629387]\n",
            " [ 9.179135]\n",
            " [17.158436]]\n",
            "   medv\n",
            "5  28.7\n",
            "6  22.9\n",
            "7  27.1\n",
            "8  16.5\n",
            "9  18.9\n"
          ],
          "name": "stdout"
        }
      ]
    },
    {
      "cell_type": "code",
      "metadata": {
        "id": "9ba8cM2cROdL",
        "colab_type": "code",
        "colab": {
          "base_uri": "https://localhost:8080/",
          "height": 238
        },
        "outputId": "0b19420a-261d-44ae-90b9-ac141082a42e"
      },
      "source": [
        "# 모델 가중치 확인\n",
        "print(model.get_weights())"
      ],
      "execution_count": 21,
      "outputs": [
        {
          "output_type": "stream",
          "text": [
            "[array([[-8.8339433e-02],\n",
            "       [ 6.2469527e-02],\n",
            "       [-5.1975593e-02],\n",
            "       [ 3.2060826e+00],\n",
            "       [ 1.5398242e+00],\n",
            "       [ 4.6009851e+00],\n",
            "       [ 1.4285640e-03],\n",
            "       [-9.6808499e-01],\n",
            "       [ 1.6251734e-01],\n",
            "       [-1.0565651e-02],\n",
            "       [-1.7882268e-01],\n",
            "       [ 1.3947008e-02],\n",
            "       [-5.2784461e-01]], dtype=float32), array([3.4535856], dtype=float32)]\n"
          ],
          "name": "stdout"
        }
      ]
    }
  ]
}